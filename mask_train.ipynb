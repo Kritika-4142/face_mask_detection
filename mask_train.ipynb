{
 "cells": [
  {
   "cell_type": "code",
   "execution_count": 1,
   "metadata": {},
   "outputs": [],
   "source": [
    "import os\n",
    "import cv2 as cv\n",
    "import numpy as np"
   ]
  },
  {
   "cell_type": "code",
   "execution_count": 2,
   "metadata": {},
   "outputs": [],
   "source": [
    "classes = ['with_mask', 'without_mask']"
   ]
  },
  {
   "cell_type": "code",
   "execution_count": 3,
   "metadata": {},
   "outputs": [],
   "source": [
    "DIR = r'C:\\Users\\This PC\\Downloads\\archive (2)\\dataset'"
   ]
  },
  {
   "cell_type": "code",
   "execution_count": 4,
   "metadata": {},
   "outputs": [],
   "source": [
    "features = []\n",
    "labels = []"
   ]
  },
  {
   "cell_type": "code",
   "execution_count": 5,
   "metadata": {},
   "outputs": [],
   "source": [
    "haar_cascade = cv.CascadeClassifier(r'C:\\Users\\This PC\\Downloads\\archive (2)\\haar_face1.xml')"
   ]
  },
  {
   "cell_type": "code",
   "execution_count": 6,
   "metadata": {},
   "outputs": [],
   "source": [
    "def create_train():\n",
    "    for category in classes:\n",
    "        path = os.path.join(DIR, category)\n",
    "        label = classes.index(category)\n",
    "        \n",
    "        for img in os.listdir(path):\n",
    "            img_path = os.path.join(path, img)\n",
    "\n",
    "            img_array = cv.imread(img_path)\n",
    "            gray = cv.cvtColor(img_array, cv.COLOR_BGR2GRAY)\n",
    "\n",
    "            faces_rect = haar_cascade.detectMultiScale(gray, scaleFactor = 1.1, minNeighbors = 4)\n",
    "\n",
    "            for (x, y, w, h) in faces_rect:\n",
    "                faces_roi = gray[y:y+h, x:x+w]\n",
    "                features.append(faces_roi)\n",
    "                labels.append(label)"
   ]
  },
  {
   "cell_type": "code",
   "execution_count": 7,
   "metadata": {},
   "outputs": [
    {
     "name": "stdout",
     "output_type": "stream",
     "text": [
      "length of the features = 828\n",
      "length of the labels = 828\n",
      "Training done\n"
     ]
    }
   ],
   "source": [
    "create_train()\n",
    "print(f'length of the features = {len(features)}')\n",
    "print(f'length of the labels = {len(labels)}')\n",
    "print('Training done')"
   ]
  },
  {
   "cell_type": "code",
   "execution_count": 8,
   "metadata": {},
   "outputs": [],
   "source": [
    "face_recognizer = cv.face.LBPHFaceRecognizer_create()\n",
    "\n",
    "#converting list to numpy arrays\n",
    "features = np.array(features, dtype = 'object')\n",
    "labels = np.array(labels)\n",
    "\n",
    "#Train the recognizer on the features list and the labels list\n",
    "\n",
    "face_recognizer.train(features, labels)\n",
    "\n",
    "np.save('features.npy', features)\n",
    "np.save('labels.npy', labels)\n",
    "face_recognizer.save('mask_trained.yml')"
   ]
  },
  {
   "cell_type": "code",
   "execution_count": null,
   "metadata": {},
   "outputs": [],
   "source": []
  }
 ],
 "metadata": {
  "kernelspec": {
   "display_name": "Python 3",
   "language": "python",
   "name": "python3"
  },
  "language_info": {
   "codemirror_mode": {
    "name": "ipython",
    "version": 3
   },
   "file_extension": ".py",
   "mimetype": "text/x-python",
   "name": "python",
   "nbconvert_exporter": "python",
   "pygments_lexer": "ipython3",
   "version": "3.8.5"
  }
 },
 "nbformat": 4,
 "nbformat_minor": 4
}
