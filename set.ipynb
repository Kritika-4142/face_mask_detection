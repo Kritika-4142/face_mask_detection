{
 "cells": [
  {
   "cell_type": "code",
   "execution_count": 16,
   "metadata": {},
   "outputs": [
    {
     "name": "stdout",
     "output_type": "stream",
     "text": [
      "(label=with_mask with a confidence of 71.23214596778287\n"
     ]
    }
   ],
   "source": [
    "import cv2 as cv\n",
    "import numpy as np\n",
    "\n",
    "\n",
    "haar_cascade=cv.CascadeClassifier(r'C:\\Users\\This PC\\Downloads\\archive (2)\\haar_face1.xml')\n",
    "\n",
    "people=['with_mask','without_mask']\n",
    "\n",
    "np.save('features.npy',features)\n",
    "np.save('labels.npy',labels)\n",
    "\n",
    "face_recognizer=cv.face.LBPHFaceRecognizer_create()\n",
    "face_recognizer.read('mask_trained.yml')\n",
    "\n",
    "img=cv.imread(r'C:\\Users\\This PC\\Downloads\\archive (2)\\sample\\demo_masked.jpg')\n",
    "\n",
    "gray=cv.cvtColor(img,cv.COLOR_BGR2GRAY)\n",
    "cv.imshow('person',gray)\n",
    "\n",
    "faces_rect=haar_cascade.detectMultiScale(gray,1.1,4)\n",
    "\n",
    "for(x,y,w,h) in faces_rect:\n",
    "    faces_roi=gray[x:x+w,y:y+h]\n",
    "    \n",
    "    label,confidence=face_recognizer.predict(faces_roi)\n",
    "    print(f'label={people[label]} with a confidence of {confidence}')\n",
    "    \n",
    "    cv.putText(img,str(people[label]),(20,20),cv.FONT_HERSHEY_COMPLEX,1.0,(0,255,0),thickness=2)\n",
    "    cv.rectangle(img,(x,y),(x+w,y+h),(0,255,0),thickness=2)\n",
    "\n",
    "    cv.imshow('DETECTED FACE',img)\n",
    "\n",
    "    cv.waitKey(0)\n",
    "\n",
    "\n",
    "\n"
   ]
  }
 ],
 "metadata": {
  "kernelspec": {
   "display_name": "Python 3.8.5 64-bit ('base': conda)",
   "language": "python",
   "name": "python385jvsc74a57bd075d5fa5647ed718dff6db6e19cb5826cae172c65e0d9788c078b693ea2246e0d"
  },
  "language_info": {
   "codemirror_mode": {
    "name": "ipython",
    "version": 3
   },
   "file_extension": ".py",
   "mimetype": "text/x-python",
   "name": "python",
   "nbconvert_exporter": "python",
   "pygments_lexer": "ipython3",
   "version": "3.8.5"
  },
  "metadata": {
   "interpreter": {
    "hash": "75d5fa5647ed718dff6db6e19cb5826cae172c65e0d9788c078b693ea2246e0d"
   }
  }
 },
 "nbformat": 4,
 "nbformat_minor": 2
}
